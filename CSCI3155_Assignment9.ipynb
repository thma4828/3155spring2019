{
 "cells": [
  {
   "cell_type": "markdown",
   "metadata": {
    "deletable": false,
    "editable": false,
    "nbgrader": {
     "checksum": "6a3575958dc77c3cec8d44edb8f99479",
     "grade": false,
     "grade_id": "cell-4dfd42d74736d7f0",
     "locked": true,
     "schema_version": 1,
     "solution": false
    }
   },
   "source": [
    "Before you turn this problem in, make sure everything runs as expected. **Restart the kernel and run all cells** (in the menubar, select Kernel$\\rightarrow$Restart & Run All).\n",
    "\n",
    "Make sure you fill in any place that says `YOUR CODE HERE ???` or \"YOUR ANSWER HERE\". Code cells are autograded, and if the test cells don't run all the way to the line that  prints \"Tests Passed (# points)\", you will not recieve any point for that test."
   ]
  },
  {
   "cell_type": "markdown",
   "metadata": {
    "deletable": false,
    "editable": false,
    "nbgrader": {
     "checksum": "34999307decda82d12499617db17ed33",
     "grade": false,
     "grade_id": "cell-85f9949b10f864e9",
     "locked": true,
     "schema_version": 1,
     "solution": false
    }
   },
   "source": [
    "# CSCI 3155: Assignment 9\n",
    "\n",
    "Topics: \n",
    "- Type Inference\n",
    "- Basics of Objects\n",
    "- Variance Annotations.\n",
    "\n",
    "Readings: Notes posted on moodle.  Chapters from Odersky\n",
    "\n",
    "- Chapter 4 (revise)\n",
    "- Chapter 10\n",
    "- Chapter 11 (take note of Any, AnyVal, Null, Nothing)\n",
    "- Chapter 12 \n",
    "- Chapter 19"
   ]
  },
  {
   "cell_type": "markdown",
   "metadata": {},
   "source": [
    "__Name__: Theodore Margoles"
   ]
  },
  {
   "cell_type": "code",
   "execution_count": 1,
   "metadata": {
    "deletable": false,
    "editable": false,
    "nbgrader": {
     "checksum": "890f58d38014511ff702c223111348bb",
     "grade": false,
     "grade_id": "cell-2fff161b494615e6",
     "locked": true,
     "schema_version": 1,
     "solution": false
    }
   },
   "outputs": [
    {
     "data": {
      "text/plain": [
       "defined \u001b[32mfunction\u001b[39m \u001b[36mpassed\u001b[39m"
      ]
     },
     "execution_count": 1,
     "metadata": {},
     "output_type": "execute_result"
    }
   ],
   "source": [
    "// TEST HELPER\n",
    "def passed(points: Int) {\n",
    "    require(points >=0)\n",
    "    if (points == 1) print(s\"\\n*** Tests Passed (1 point) ***\\n\")\n",
    "    else print(s\"\\n*** Tests Passed ($points points) ***\\n\")\n",
    "}"
   ]
  },
  {
   "cell_type": "markdown",
   "metadata": {
    "deletable": false,
    "editable": false,
    "nbgrader": {
     "checksum": "a89cbd23b52c2eef28e2d75e3bca6874",
     "grade": false,
     "grade_id": "cell-fc669f259da557f7",
     "locked": true,
     "schema_version": 1,
     "solution": false
    }
   },
   "source": [
    "## Problem 1 (20 points): Objects in Scala\n",
    "\n",
    "### A (12 points)\n",
    "Consider the class below for an employee record in an organization that has three fields `name`, `eid` (employee id) and `salary`.\n",
    "\n",
    "1) As given, scala will complain that class employee cannot extend the abstract class People. Add the missing methods to enable the class Employee to properly extend People\n",
    "\n",
    "2) Write a factory pattern that takes in a formatted string of the form \"John Doe,29585,33110\" consisting of a string and two numbers, to extract the name and salaries for each employee. You may want to use `scala.util.matching.Regex` [https://www.scala-lang.org/api/2.9.2/scala/util/matching/Regex.html]\n",
    "If the input fails to match the pattern, an `IllegalArgumentException` must be thrown\n",
    "\n",
    "Companion objects are covered in scala book Chapter 4.3. Also lookup here: https://alvinalexander.com/scala/factory-pattern-in-scala-design-patterns"
   ]
  },
  {
   "cell_type": "code",
   "execution_count": 8,
   "metadata": {
    "deletable": false,
    "nbgrader": {
     "checksum": "7e41a7e1e82535fe06c272bbb6f46c17",
     "grade": false,
     "grade_id": "cell-f80a491b407a7ab7",
     "locked": false,
     "schema_version": 1,
     "solution": true
    }
   },
   "outputs": [
    {
     "data": {
      "text/plain": [
       "\u001b[32mimport \u001b[39m\u001b[36mscala.util.matching.Regex\n",
       "\n",
       "\u001b[39m\n",
       "defined \u001b[32mclass\u001b[39m \u001b[36mPeople\u001b[39m\n",
       "defined \u001b[32mclass\u001b[39m \u001b[36mEmployee\u001b[39m\n",
       "defined \u001b[32mobject\u001b[39m \u001b[36mEmployee\u001b[39m"
      ]
     },
     "execution_count": 8,
     "metadata": {},
     "output_type": "execute_result"
    }
   ],
   "source": [
    "import scala.util.matching.Regex\n",
    "\n",
    "abstract class People {\n",
    "    /* I need the ability to convert every person to a string */\n",
    "    def toString: String\n",
    "    /* I need the ability to check if two people are the same */\n",
    "    def equals (p: People): Boolean = {\n",
    "        if(this.toString == p.toString) true else false\n",
    "    }\n",
    "}\n",
    "\n",
    "/* \n",
    "  Note that for an employee to be equal to an object of type People, that object\n",
    "  must be an employee with matching eid number \n",
    "*/\n",
    "\n",
    "class Employee( val name: String, val eid: Int, var salary: Int) extends People {\n",
    "    override def toString: String =  name + \" with salary = \" + salary.toString\n",
    "    \n",
    "    \n",
    "}\n",
    "\n",
    "\n",
    "object Employee {\n",
    "    def apply(formattedInput: String): Employee = {\n",
    "        val nums:List[Char] = List('1', '2', '3', '4', '5', '6', '7', '8', '9', '0')\n",
    "        //def Num(c:Char, l:List[Char]):Boolean ={if(l.contains(c)) true else false}\n",
    "\n",
    "        /* \n",
    "        Input format must be \n",
    "        (full name with possible spaces)[optional whitespaces],[optional whitespaces](employee ID number)[optional whitespaces],[optional whitespaces](employee salary)\n",
    "        */\n",
    "        val name = (formattedInput.filterNot(x => nums.contains(x))).trim\n",
    "        val numchars = (formattedInput.filter(x => nums.contains(x) || x ==  ' ')).trim\n",
    "        val sarr:Array[String] = numchars.split(',')\n",
    "        new Employee(name, sarr(0).toInt, sarr(1).toInt)\n",
    "    }\n",
    "}"
   ]
  },
  {
   "cell_type": "code",
   "execution_count": 7,
   "metadata": {
    "deletable": false,
    "editable": false,
    "nbgrader": {
     "checksum": "c6d2d14956085587a39f901925e4ccbb",
     "grade": true,
     "grade_id": "cell-e1ec3bf75d6f6de5",
     "locked": true,
     "points": 4,
     "schema_version": 1,
     "solution": false
    }
   },
   "outputs": [
    {
     "name": "stdout",
     "output_type": "stream",
     "text": [
      "Jonathan Doe, , with salary = 39813\n"
     ]
    },
    {
     "ename": "",
     "evalue": "",
     "output_type": "error",
     "traceback": [
      "\u001b[31mjava.lang.AssertionError: assertion failed: Failed\u001b[39m",
      "  scala.Predef$.assert(\u001b[32mPredef.scala\u001b[39m:\u001b[32m170\u001b[39m)",
      "  $sess.cmd6Wrapper$Helper.<init>(\u001b[32mcmd6.sc\u001b[39m:\u001b[32m3\u001b[39m)",
      "  $sess.cmd6Wrapper.<init>(\u001b[32mcmd6.sc\u001b[39m:\u001b[32m128\u001b[39m)",
      "  $sess.cmd6$.<init>(\u001b[32mcmd6.sc\u001b[39m:\u001b[32m76\u001b[39m)",
      "  $sess.cmd6$.<clinit>(\u001b[32mcmd6.sc\u001b[39m:\u001b[32m-1\u001b[39m)"
     ]
    }
   ],
   "source": [
    "//BEGIN TEST\n",
    "val e1 = Employee(\"Jonathan Doe, 12893, 39813\")\n",
    "println(e1.toString)\n",
    "assert(e1.name == \"Jonathan Doe\", \"Failed\")\n",
    "assert(e1.eid == 12893, \"Failed\")\n",
    "assert(e1.salary == 39813, \"Failed\")\n",
    "assert(e1.equals(new Employee(\"whoknows\", 12893, 39813)))\n",
    "passed(4)\n",
    "//END TEST"
   ]
  },
  {
   "cell_type": "code",
   "execution_count": 4,
   "metadata": {
    "deletable": false,
    "editable": false,
    "nbgrader": {
     "checksum": "6138f02889df76e4750f0cf3c331f1d0",
     "grade": true,
     "grade_id": "cell-9d823f9842fd95a7",
     "locked": true,
     "points": 4,
     "schema_version": 1,
     "solution": false
    }
   },
   "outputs": [
    {
     "name": "stdout",
     "output_type": "stream",
     "text": [
      "Expected behavior seen\n",
      "\n",
      "*** Tests Passed (4 points) ***\n"
     ]
    }
   ],
   "source": [
    "//BEGIN TEST\n",
    "try {\n",
    "    val e2 = Employee(\"Badly Formatted String, 29812, $3102\")\n",
    "    assert(false, \"Failed, the string is badly formatted but your code is OK with it.\")\n",
    "} catch {\n",
    "    case e => println(s\"Expected behavior seen\")\n",
    "}\n",
    "passed(4)\n",
    "//END TEST"
   ]
  },
  {
   "cell_type": "code",
   "execution_count": 5,
   "metadata": {
    "deletable": false,
    "editable": false,
    "nbgrader": {
     "checksum": "96ccf01bbc32931d4c9b0c1e5d6f0ea8",
     "grade": true,
     "grade_id": "cell-00d1907d97c7da69",
     "locked": true,
     "points": 4,
     "schema_version": 1,
     "solution": false
    }
   },
   "outputs": [
    {
     "ename": "",
     "evalue": "",
     "output_type": "error",
     "traceback": [
      "\u001b[31mjava.lang.NumberFormatException: For input string: \"\"\u001b[39m",
      "  java.lang.NumberFormatException.forInputString(\u001b[32mNumberFormatException.java\u001b[39m:\u001b[32m65\u001b[39m)",
      "  java.lang.Integer.parseInt(\u001b[32mInteger.java\u001b[39m:\u001b[32m592\u001b[39m)",
      "  java.lang.Integer.parseInt(\u001b[32mInteger.java\u001b[39m:\u001b[32m615\u001b[39m)",
      "  scala.collection.immutable.StringLike$class.toInt(\u001b[32mStringLike.scala\u001b[39m:\u001b[32m273\u001b[39m)",
      "  scala.collection.immutable.StringOps.toInt(\u001b[32mStringOps.scala\u001b[39m:\u001b[32m29\u001b[39m)",
      "  $sess.cmd1Wrapper$Helper$Employee$.apply(\u001b[32mcmd1.sc\u001b[39m:\u001b[32m36\u001b[39m)",
      "  $sess.cmd4Wrapper$Helper.<init>(\u001b[32mcmd4.sc\u001b[39m:\u001b[32m1\u001b[39m)",
      "  $sess.cmd4Wrapper.<init>(\u001b[32mcmd4.sc\u001b[39m:\u001b[32m128\u001b[39m)",
      "  $sess.cmd4$.<init>(\u001b[32mcmd4.sc\u001b[39m:\u001b[32m76\u001b[39m)",
      "  $sess.cmd4$.<clinit>(\u001b[32mcmd4.sc\u001b[39m:\u001b[32m-1\u001b[39m)"
     ]
    }
   ],
   "source": [
    "//BEGIN TEST\n",
    "val e1 = Employee(\"Janet Maria Catherine Doe    , 12894   , 121331\")\n",
    "println(e1.toString)\n",
    "assert(e1.name == \"Janet Maria Catherine Doe\", \"Failed\")\n",
    "assert(e1.eid == 12894, \"Failed\")\n",
    "assert(e1.salary == 121331, \"Failed\")\n",
    "assert(e1.equals(new Employee(\"random\", 12894, 121332)))\n",
    "passed(4)\n",
    "//END TEST"
   ]
  },
  {
   "cell_type": "markdown",
   "metadata": {
    "deletable": false,
    "editable": false,
    "nbgrader": {
     "checksum": "dc3ffa5f1aa4790acf0aa138ea4b339e",
     "grade": false,
     "grade_id": "cell-67af0a2a1259bfec",
     "locked": true,
     "schema_version": 1,
     "solution": false
    }
   },
   "source": [
    "### B (8 points)\n",
    "We wish to add a new class of people to our system. These are \"Contractor\" with the information associated should involve their name (string), contract ID (Integer) and contract supervisor (Employee).\n",
    "\n",
    "Write a new class named `Contractor` whose constructor should take in the name of the person (String), their ID number (Integer) and Supervisor (Employee) and extend from People. \n",
    "\n",
    "A contractor object is equal to an object p of type People, only if p is actually an instance of contractor, and if their names are the same and they have the same contract ID number."
   ]
  },
  {
   "cell_type": "code",
   "execution_count": 11,
   "metadata": {
    "deletable": false,
    "nbgrader": {
     "checksum": "0462512eff9761a7bea81c11297cd17f",
     "grade": false,
     "grade_id": "cell-97ab958367cfbd0a",
     "locked": false,
     "schema_version": 1,
     "solution": true
    }
   },
   "outputs": [
    {
     "data": {
      "text/plain": [
       "defined \u001b[32mclass\u001b[39m \u001b[36mContractor\u001b[39m"
      ]
     },
     "execution_count": 11,
     "metadata": {},
     "output_type": "execute_result"
    }
   ],
   "source": [
    "class Contractor(name:String, contractID:Int, contractSupervisor:Employee) extends People{\n",
    "    override def toString =  name + contractID + contractSupervisor.toString\n",
    "}"
   ]
  },
  {
   "cell_type": "code",
   "execution_count": 12,
   "metadata": {
    "deletable": false,
    "editable": false,
    "nbgrader": {
     "checksum": "b72fe8c57faa88c846a5735f178f68d7",
     "grade": true,
     "grade_id": "cell-82cc00e175a12efe",
     "locked": true,
     "points": 4,
     "schema_version": 1,
     "solution": false
    }
   },
   "outputs": [
    {
     "ename": "",
     "evalue": "",
     "output_type": "error",
     "traceback": [
      "\u001b[31mjava.lang.NumberFormatException: For input string: \"12893 39813\"\u001b[39m",
      "  java.lang.NumberFormatException.forInputString(\u001b[32mNumberFormatException.java\u001b[39m:\u001b[32m65\u001b[39m)",
      "  java.lang.Integer.parseInt(\u001b[32mInteger.java\u001b[39m:\u001b[32m580\u001b[39m)",
      "  java.lang.Integer.parseInt(\u001b[32mInteger.java\u001b[39m:\u001b[32m615\u001b[39m)",
      "  scala.collection.immutable.StringLike$class.toInt(\u001b[32mStringLike.scala\u001b[39m:\u001b[32m273\u001b[39m)",
      "  scala.collection.immutable.StringOps.toInt(\u001b[32mStringOps.scala\u001b[39m:\u001b[32m29\u001b[39m)",
      "  $sess.cmd7Wrapper$Helper$Employee$.apply(\u001b[32mcmd7.sc\u001b[39m:\u001b[32m36\u001b[39m)",
      "  $sess.cmd11Wrapper$Helper.<init>(\u001b[32mcmd11.sc\u001b[39m:\u001b[32m1\u001b[39m)",
      "  $sess.cmd11Wrapper.<init>(\u001b[32mcmd11.sc\u001b[39m:\u001b[32m128\u001b[39m)",
      "  $sess.cmd11$.<init>(\u001b[32mcmd11.sc\u001b[39m:\u001b[32m80\u001b[39m)",
      "  $sess.cmd11$.<clinit>(\u001b[32mcmd11.sc\u001b[39m:\u001b[32m-1\u001b[39m)"
     ]
    }
   ],
   "source": [
    "//BEGIN TEST\n",
    "val e1 = Employee(\"Jonathan Doe, 12893, 39813\")\n",
    "val c1 = new Contractor(\"John Contract Worker\", 12093, e1)\n",
    "assert( !c1.equals(e1), \"Failed\")\n",
    "assert( c1.equals(c1), \"Failed\")\n",
    "passed(4)\n",
    "//END TEST"
   ]
  },
  {
   "cell_type": "code",
   "execution_count": 13,
   "metadata": {
    "deletable": false,
    "editable": false,
    "nbgrader": {
     "checksum": "aa0af82250f3291296d944f3eea05b35",
     "grade": true,
     "grade_id": "cell-62fa2e0b66f58862",
     "locked": true,
     "points": 4,
     "schema_version": 1,
     "solution": false
    }
   },
   "outputs": [
    {
     "ename": "",
     "evalue": "",
     "output_type": "error",
     "traceback": [
      "\u001b[31mjava.lang.NumberFormatException: For input string: \"12893 39813\"\u001b[39m",
      "  java.lang.NumberFormatException.forInputString(\u001b[32mNumberFormatException.java\u001b[39m:\u001b[32m65\u001b[39m)",
      "  java.lang.Integer.parseInt(\u001b[32mInteger.java\u001b[39m:\u001b[32m580\u001b[39m)",
      "  java.lang.Integer.parseInt(\u001b[32mInteger.java\u001b[39m:\u001b[32m615\u001b[39m)",
      "  scala.collection.immutable.StringLike$class.toInt(\u001b[32mStringLike.scala\u001b[39m:\u001b[32m273\u001b[39m)",
      "  scala.collection.immutable.StringOps.toInt(\u001b[32mStringOps.scala\u001b[39m:\u001b[32m29\u001b[39m)",
      "  $sess.cmd7Wrapper$Helper$Employee$.apply(\u001b[32mcmd7.sc\u001b[39m:\u001b[32m36\u001b[39m)",
      "  $sess.cmd12Wrapper$Helper.<init>(\u001b[32mcmd12.sc\u001b[39m:\u001b[32m1\u001b[39m)",
      "  $sess.cmd12Wrapper.<init>(\u001b[32mcmd12.sc\u001b[39m:\u001b[32m132\u001b[39m)",
      "  $sess.cmd12$.<init>(\u001b[32mcmd12.sc\u001b[39m:\u001b[32m80\u001b[39m)",
      "  $sess.cmd12$.<clinit>(\u001b[32mcmd12.sc\u001b[39m:\u001b[32m-1\u001b[39m)"
     ]
    }
   ],
   "source": [
    "//BEGIN TEST\n",
    "val e1 = Employee(\"Jonathan Doe, 12893, 39813\")\n",
    "val e2 = Employee(\"Jane Doe, 12894, 43814\")\n",
    "val c1 = new Contractor(\"John Contract Worker\", 12093, e2)\n",
    "val c2 = new Contractor(\"John Contract Worker\", 12093, e1)\n",
    "assert( c1.equals(c2), \"Failed\")\n",
    "passed(4)\n",
    "//END TEST"
   ]
  },
  {
   "cell_type": "markdown",
   "metadata": {
    "deletable": false,
    "editable": false,
    "nbgrader": {
     "checksum": "bf2364c5ae53c512b4974bac5aa65ef2",
     "grade": false,
     "grade_id": "cell-0117fb3b4cff7be1",
     "locked": true,
     "schema_version": 1,
     "solution": false
    }
   },
   "source": [
    "## Problem 2 (40 points): Traits in Scala\n",
    "\n",
    "For this problem, we have defined two traits: `NumberOfLegs` that helps us define how many legs a given animal has and `WarmBlooded` that applies to warm blooded animals."
   ]
  },
  {
   "cell_type": "code",
   "execution_count": 14,
   "metadata": {
    "deletable": false,
    "editable": false,
    "nbgrader": {
     "checksum": "0bb523308ae2b8bf935fde421bce866f",
     "grade": false,
     "grade_id": "cell-a6b29f417cfcdb22",
     "locked": true,
     "schema_version": 1,
     "solution": false
    }
   },
   "outputs": [
    {
     "data": {
      "text/plain": [
       "defined \u001b[32mclass\u001b[39m \u001b[36mAnimal\u001b[39m\n",
       "defined \u001b[32mtrait\u001b[39m \u001b[36mNumberOfLegs\u001b[39m\n",
       "defined \u001b[32mtrait\u001b[39m \u001b[36mWarmBlooded\u001b[39m"
      ]
     },
     "execution_count": 14,
     "metadata": {},
     "output_type": "execute_result"
    }
   ],
   "source": [
    "abstract class Animal \n",
    "\n",
    "trait NumberOfLegs {\n",
    "    val nLegs: Int\n",
    "    def getNumberOfLegs: Int = nLegs\n",
    "}\n",
    "\n",
    "trait WarmBlooded extends Animal {\n",
    "    val bodyTempMaintained: Double\n",
    "    def getBodyTemp: Double = bodyTempMaintained \n",
    "}"
   ]
  },
  {
   "cell_type": "markdown",
   "metadata": {
    "deletable": false,
    "editable": false,
    "nbgrader": {
     "checksum": "a36beaf2d9df6f83f37c9e3102b6a9b1",
     "grade": false,
     "grade_id": "cell-abf7a17d89f0fb99",
     "locked": true,
     "schema_version": 1,
     "solution": false
    }
   },
   "source": [
    "### A (5 points)\n",
    "\n",
    "Define a class `Human` that inherits from `Animal` and mixes in the traits `NumberOfLegs` with `nLegs = 2` and `WarmBlooded` with `bodyTempMaintained = 98`. The class `Human` must take in a parameter called `name` of type `String` and implement a `getName` method without any parameters."
   ]
  },
  {
   "cell_type": "code",
   "execution_count": 16,
   "metadata": {
    "deletable": false,
    "nbgrader": {
     "checksum": "aea16333c450777c4ed8300a0fc7dd5c",
     "grade": false,
     "grade_id": "cell-e7a4a9275bd24e24",
     "locked": false,
     "schema_version": 1,
     "solution": true
    }
   },
   "outputs": [
    {
     "data": {
      "text/plain": [
       "defined \u001b[32mclass\u001b[39m \u001b[36mHuman\u001b[39m"
      ]
     },
     "execution_count": 16,
     "metadata": {},
     "output_type": "execute_result"
    }
   ],
   "source": [
    "class Human(name:String) extends Animal with NumberOfLegs with WarmBlooded{\n",
    "   override val nLegs = 2\n",
    "   override val bodyTempMaintained = 98.0\n",
    "   def getName = name\n",
    "}"
   ]
  },
  {
   "cell_type": "code",
   "execution_count": 17,
   "metadata": {
    "deletable": false,
    "editable": false,
    "nbgrader": {
     "checksum": "dcc2176381176fc647c1b7a461c843de",
     "grade": true,
     "grade_id": "cell-f9b7ae8902326372",
     "locked": true,
     "points": 5,
     "schema_version": 1,
     "solution": false
    }
   },
   "outputs": [
    {
     "name": "stdout",
     "output_type": "stream",
     "text": [
      "\n",
      "*** Tests Passed (5 points) ***\n"
     ]
    },
    {
     "data": {
      "text/plain": [
       "\u001b[36mt1\u001b[39m: \u001b[32mHuman\u001b[39m = $sess.cmd15Wrapper$Helper$Human@990efe1"
      ]
     },
     "execution_count": 17,
     "metadata": {},
     "output_type": "execute_result"
    }
   ],
   "source": [
    "//BEGIN TEST\n",
    "val t1 = new Human(\"Jane Smith\")\n",
    "assert(t1.getNumberOfLegs == 2, \"Your human does not have two legs\")\n",
    "assert(t1.bodyTempMaintained == 98.0, \"Your human does not maintain a body temp of 98\")\n",
    "assert(t1.getBodyTemp == 98.0, \"Your human's getBodyTemp Function is not working\")\n",
    "assert(t1.getName == \"Jane Smith\", \"Your human's name is not setting correctly\")\n",
    "passed(5)\n",
    "//END TEST"
   ]
  },
  {
   "cell_type": "markdown",
   "metadata": {
    "deletable": false,
    "editable": false,
    "nbgrader": {
     "checksum": "a5bc893bc737b747e230e3b97acf7c9d",
     "grade": false,
     "grade_id": "cell-439f7e10a3556ae4",
     "locked": true,
     "schema_version": 1,
     "solution": false
    }
   },
   "source": [
    "### B (5 points)\n",
    "Define a class named `Table` that mixes in the trait `NumberOfLegs` with `nLegs = 4`. \n",
    "\n",
    "_Note:_ `Table` cannot mixin the trait `WarmBlooded` (make sure you understand why that is as a quick check of concepts)."
   ]
  },
  {
   "cell_type": "code",
   "execution_count": 18,
   "metadata": {
    "deletable": false,
    "nbgrader": {
     "checksum": "923986841009232fcd56f108cf6ae098",
     "grade": false,
     "grade_id": "cell-8145df690b6f6588",
     "locked": false,
     "schema_version": 1,
     "solution": true
    }
   },
   "outputs": [
    {
     "data": {
      "text/plain": [
       "defined \u001b[32mclass\u001b[39m \u001b[36mTable\u001b[39m"
      ]
     },
     "execution_count": 18,
     "metadata": {},
     "output_type": "execute_result"
    }
   ],
   "source": [
    "class Table extends NumberOfLegs{\n",
    "    override val nLegs = 4\n",
    "}"
   ]
  },
  {
   "cell_type": "code",
   "execution_count": 19,
   "metadata": {
    "deletable": false,
    "editable": false,
    "nbgrader": {
     "checksum": "d6049664a92410089eaa8c5561d5c8bb",
     "grade": true,
     "grade_id": "cell-d34b29b062b93894",
     "locked": true,
     "points": 5,
     "schema_version": 1,
     "solution": false
    }
   },
   "outputs": [
    {
     "name": "stdout",
     "output_type": "stream",
     "text": [
      "\n",
      "*** Tests Passed (5 points) ***\n"
     ]
    },
    {
     "data": {
      "text/plain": [
       "\u001b[36mtbl\u001b[39m: \u001b[32mTable\u001b[39m = $sess.cmd17Wrapper$Helper$Table@54ae2f71"
      ]
     },
     "execution_count": 19,
     "metadata": {},
     "output_type": "execute_result"
    }
   ],
   "source": [
    "//BEGIN TEST\n",
    "val tbl = new Table()\n",
    "assert(tbl.getNumberOfLegs == 4, \"A Table must have four legs\")\n",
    "passed(5)\n",
    "//END TEST"
   ]
  },
  {
   "cell_type": "markdown",
   "metadata": {
    "deletable": false,
    "editable": false,
    "nbgrader": {
     "checksum": "edfb40aaa1fea6f2dc18f80aa9357230",
     "grade": false,
     "grade_id": "cell-1a1534939ceaabc1",
     "locked": true,
     "schema_version": 1,
     "solution": false
    }
   },
   "source": [
    "### C (15 points)\n",
    "Define a class called `Menagerie` with type parameter `T` such that \n",
    "\n",
    "- T must always be a derived type of Animal with the trait NumberOfLegs (In scala you can say `T <: A with B` to indicate that a type parameter T must derive from class A with trait B applied).\n",
    "\n",
    "- `Menagerie` has a list of objects of type `T`.\n",
    "\n",
    "- The user must be able to instantiate an object of type Menagerie without providing any class parameters: `new Menagerie[T]`\n",
    "\n",
    "- The class Menagerie has the method `addAnimalToMenagerie` that adds an object of type `T` to menagerie and returns a new Menagerie.\n",
    "\n",
    "- Implement a method `addMultipleAnimalsToMenagerie` that adds more than one animal. Lookup syntax below.\n",
    " \n",
    " \n",
    "Lookup the syntax for varargs or repeated parameters (T*) here: https://alvinalexander.com/scala/how-to-define-methods-variable-arguments-varargs-fields. Also in Chapter 8.8 of Odersky book.\n",
    "\n",
    "\n",
    "- Add a method `totalLegs: Int` that sums up how many legs the animals in the menagerie have in total.\n",
    "\n",
    "~~~\n",
    "class Menagerie[T...] () {\n",
    "   // ... Extra Stuff that you may want to add ...\n",
    "   def addAnimalToMenagerie (a: T) : Menagerie[T]\n",
    "   def addMultipleAnimalsToMenagerie(animals: T*): Menagerie[T]\n",
    "   def totalLegs:Int\n",
    "}\n",
    "~~~\n"
   ]
  },
  {
   "cell_type": "code",
   "execution_count": 20,
   "metadata": {
    "deletable": false,
    "nbgrader": {
     "checksum": "51ee5703f4049852a375f0f19b862bff",
     "grade": false,
     "grade_id": "cell-44221c4360112bc9",
     "locked": false,
     "schema_version": 1,
     "solution": true
    }
   },
   "outputs": [
    {
     "data": {
      "text/plain": [
       "defined \u001b[32mclass\u001b[39m \u001b[36mMenagerie\u001b[39m"
      ]
     },
     "execution_count": 20,
     "metadata": {},
     "output_type": "execute_result"
    }
   ],
   "source": [
    "class Menagerie[T <: Animal with NumberOfLegs](objects:List[T]){\n",
    "    def this() = this(List[T]())\n",
    "    \n",
    "    def addAnimalToMenagerie(a : T) : Menagerie[T] = {\n",
    "        new Menagerie[T](a::objects)\n",
    "    }\n",
    "    \n",
    "    def addMultipleAnimalsToMenagerie(animals: T*): Menagerie[T] = {\n",
    "        new Menagerie(animals.foldLeft(List[T]())((acc, el) => el::acc))\n",
    "    }\n",
    "    \n",
    "    def totalLegs : Int = {\n",
    "        objects.foldLeft(0)((acc, el) => acc + el.getNumberOfLegs)\n",
    "    }\n",
    "    \n",
    "}"
   ]
  },
  {
   "cell_type": "code",
   "execution_count": 21,
   "metadata": {
    "deletable": false,
    "editable": false,
    "nbgrader": {
     "checksum": "165c185782937dd623a414ebb5212743",
     "grade": false,
     "grade_id": "cell-305bd0786faa7bb4",
     "locked": true,
     "schema_version": 1,
     "solution": false
    }
   },
   "outputs": [
    {
     "data": {
      "text/plain": [
       "defined \u001b[32mclass\u001b[39m \u001b[36mDonkey\u001b[39m\n",
       "defined \u001b[32mclass\u001b[39m \u001b[36mLion\u001b[39m\n",
       "defined \u001b[32mclass\u001b[39m \u001b[36mMule\u001b[39m\n",
       "\u001b[36md1\u001b[39m: \u001b[32mDonkey\u001b[39m = $sess.cmd20Wrapper$Helper$Donkey@544d80da\n",
       "\u001b[36md2\u001b[39m: \u001b[32mDonkey\u001b[39m = $sess.cmd20Wrapper$Helper$Donkey@3440277e\n",
       "\u001b[36md3\u001b[39m: \u001b[32mDonkey\u001b[39m = $sess.cmd20Wrapper$Helper$Donkey@5117bcaa\n",
       "\u001b[36md4\u001b[39m: \u001b[32mMule\u001b[39m = $sess.cmd20Wrapper$Helper$Mule@6d79844e"
      ]
     },
     "execution_count": 21,
     "metadata": {},
     "output_type": "execute_result"
    }
   ],
   "source": [
    "//BEGIN TEST SETUP\n",
    "class Donkey extends Animal with NumberOfLegs with WarmBlooded {\n",
    "    val nLegs:Int = 4\n",
    "    val bodyTempMaintained = 96.0\n",
    "}\n",
    "\n",
    "class Lion extends Animal with NumberOfLegs {\n",
    "    val nLegs:Int = 4\n",
    "}\n",
    "\n",
    "class Mule extends Donkey\n",
    "\n",
    "val d1 = new Donkey()\n",
    "val d2 = new Donkey()\n",
    "val d3 = new Donkey()\n",
    "val d4 = new Mule()\n",
    "//END TEST SETUP"
   ]
  },
  {
   "cell_type": "code",
   "execution_count": 22,
   "metadata": {
    "deletable": false,
    "editable": false,
    "nbgrader": {
     "checksum": "f75734c1f9a26cb503c6cecd7ff2d818",
     "grade": true,
     "grade_id": "cell-d70b45ba2426c6a6",
     "locked": true,
     "points": 3,
     "schema_version": 1,
     "solution": false
    }
   },
   "outputs": [
    {
     "name": "stdout",
     "output_type": "stream",
     "text": [
      "\n",
      "*** Tests Passed (3 points) ***\n"
     ]
    },
    {
     "data": {
      "text/plain": [
       "\u001b[36mm1\u001b[39m: \u001b[32mMenagerie\u001b[39m[\u001b[32mDonkey\u001b[39m] = $sess.cmd19Wrapper$Helper$Menagerie@f1db976"
      ]
     },
     "execution_count": 22,
     "metadata": {},
     "output_type": "execute_result"
    }
   ],
   "source": [
    "//BEGIN TEST\n",
    "val m1 = new Menagerie[Donkey]\n",
    "passed(3)\n",
    "//END TEST"
   ]
  },
  {
   "cell_type": "code",
   "execution_count": 23,
   "metadata": {
    "deletable": false,
    "editable": false,
    "nbgrader": {
     "checksum": "cd0a0211292be48da5e9b21cc1f71193",
     "grade": true,
     "grade_id": "cell-0f3cd5e1e161c390",
     "locked": true,
     "points": 6,
     "schema_version": 1,
     "solution": false
    }
   },
   "outputs": [
    {
     "name": "stdout",
     "output_type": "stream",
     "text": [
      "\n",
      "*** Tests Passed (6 points) ***\n"
     ]
    },
    {
     "data": {
      "text/plain": [
       "\u001b[36mm1\u001b[39m: \u001b[32mMenagerie\u001b[39m[\u001b[32mDonkey\u001b[39m] = $sess.cmd19Wrapper$Helper$Menagerie@6ccb6d1e\n",
       "\u001b[36mm2\u001b[39m: \u001b[32mMenagerie\u001b[39m[\u001b[32mDonkey\u001b[39m] = $sess.cmd19Wrapper$Helper$Menagerie@150bb218\n",
       "\u001b[36mn\u001b[39m: \u001b[32mInt\u001b[39m = \u001b[32m4\u001b[39m"
      ]
     },
     "execution_count": 23,
     "metadata": {},
     "output_type": "execute_result"
    }
   ],
   "source": [
    "//BEGIN TEST\n",
    "val m1 = new Menagerie[Donkey]\n",
    "val m2 = m1.addAnimalToMenagerie(d1)\n",
    "val n = m2.totalLegs\n",
    "assert(n == 4, s\"1 quadraped = 4 legs. You have $n legs : are you missing legs? Too many legs?\")\n",
    "passed(6)\n",
    "//END TEST"
   ]
  },
  {
   "cell_type": "code",
   "execution_count": 24,
   "metadata": {
    "deletable": false,
    "editable": false,
    "nbgrader": {
     "checksum": "c25b48e481569cf47e4f790b6d056f1e",
     "grade": true,
     "grade_id": "cell-9ca767949c491818",
     "locked": true,
     "points": 6,
     "schema_version": 1,
     "solution": false
    }
   },
   "outputs": [
    {
     "name": "stdout",
     "output_type": "stream",
     "text": [
      "\n",
      "*** Tests Passed (6 points) ***\n"
     ]
    },
    {
     "data": {
      "text/plain": [
       "\u001b[36mm1\u001b[39m: \u001b[32mMenagerie\u001b[39m[\u001b[32mDonkey\u001b[39m] = $sess.cmd19Wrapper$Helper$Menagerie@32a390b1\n",
       "\u001b[36mm2\u001b[39m: \u001b[32mMenagerie\u001b[39m[\u001b[32mDonkey\u001b[39m] = $sess.cmd19Wrapper$Helper$Menagerie@4791b8d4\n",
       "\u001b[36mn\u001b[39m: \u001b[32mInt\u001b[39m = \u001b[32m16\u001b[39m"
      ]
     },
     "execution_count": 24,
     "metadata": {},
     "output_type": "execute_result"
    }
   ],
   "source": [
    "//BEGIN TEST\n",
    "val m1 = new Menagerie[Donkey]\n",
    "val m2 = m1.addMultipleAnimalsToMenagerie(d1, d2, d3, d4)\n",
    "val n = m2.totalLegs\n",
    "assert(n == 16, s\"4 quadrapeds = 16 legs. You have $n legs : are you missing legs? Too many legs?\")\n",
    "passed(6)\n",
    "//END TEST"
   ]
  },
  {
   "cell_type": "markdown",
   "metadata": {
    "deletable": false,
    "editable": false,
    "nbgrader": {
     "checksum": "d984324fba0a0d54d5585d0e77db2ea8",
     "grade": false,
     "grade_id": "cell-b7af9dfe5a41d982",
     "locked": true,
     "schema_version": 1,
     "solution": false
    }
   },
   "source": [
    "### D (15 points)\n",
    "Currently a `Menagerie` as defined above is Invariant. Make it covariant so that  subtyping relations such as `Menagerie[Mule] <: Menagerie[Donkey] <: Menagerie[Animal]`."
   ]
  },
  {
   "cell_type": "code",
   "execution_count": null,
   "metadata": {
    "deletable": false,
    "nbgrader": {
     "checksum": "20c5ed76f5b3352d3fed726a647fbfe5",
     "grade": false,
     "grade_id": "cell-3dcb8201b939b421",
     "locked": false,
     "schema_version": 1,
     "solution": true
    }
   },
   "outputs": [],
   "source": [
    "// YOUR CODE HERE\n",
    "???"
   ]
  },
  {
   "cell_type": "code",
   "execution_count": null,
   "metadata": {
    "deletable": false,
    "editable": false,
    "nbgrader": {
     "checksum": "a087902f0878e9e4445c5424c334d5b1",
     "grade": true,
     "grade_id": "cell-96824e578d275d9c",
     "locked": true,
     "points": 15,
     "schema_version": 1,
     "solution": false
    }
   },
   "outputs": [],
   "source": [
    "//BEGIN TEST \n",
    "class Donkey extends Animal with NumberOfLegs with WarmBlooded {\n",
    "    val nLegs:Int = 4\n",
    "    val bodyTempMaintained = 96.0\n",
    "}\n",
    "\n",
    "class Mule extends Donkey\n",
    "\n",
    "val d1 = new Donkey()\n",
    "val d2 = new Donkey()\n",
    "val d3 = new Donkey()\n",
    "val mu1 = new Mule()\n",
    "val m1 = new Menagerie[Donkey]\n",
    "// Inheritance among Menageries:\n",
    "val m2: Menagerie[Donkey] = new Menagerie[Mule]\n",
    "// Strongest type selection:\n",
    "val m3: Menagerie[Donkey] = m1.addMultipleAnimalsToMenagerie(d1, d2, d3, mu1)\n",
    "\n",
    "print(\"Successfully added Lions and Donkeys to the same menagerie!\")\n",
    "\n",
    "passed(15)\n",
    "//END TEST"
   ]
  }
 ],
 "metadata": {
  "kernelspec": {
   "display_name": "Scala",
   "language": "scala",
   "name": "scala"
  },
  "language_info": {
   "codemirror_mode": "text/x-scala",
   "file_extension": ".scala",
   "mimetype": "text/x-scala",
   "name": "scala211",
   "nbconvert_exporter": "script",
   "pygments_lexer": "scala",
   "version": "2.11.11"
  }
 },
 "nbformat": 4,
 "nbformat_minor": 2
}
